{
  "cells": [
    {
      "cell_type": "markdown",
      "metadata": {
        "id": "view-in-github",
        "colab_type": "text"
      },
      "source": [
        "<a href=\"https://colab.research.google.com/github/SebastianBenini/Financial_Fraud_Detection/blob/main/Proyecto_Deteccion_Fraude_Financiero.ipynb\" target=\"_parent\"><img src=\"https://colab.research.google.com/assets/colab-badge.svg\" alt=\"Open In Colab\"/></a>"
      ]
    },
    {
      "cell_type": "markdown",
      "metadata": {
        "id": "KFoUf5tn19YY"
      },
      "source": [
        "### 1. *CONFIGURACION DEL AMBIENTE*"
      ]
    },
    {
      "cell_type": "code",
      "execution_count": 1,
      "metadata": {
        "id": "hOPReQbc2HHd"
      },
      "outputs": [],
      "source": [
        "from google.colab import drive\n",
        "import pandas as pd\n",
        "import numpy as np\n",
        "import math\n",
        "import json\n",
        "%matplotlib inline\n",
        "import matplotlib.pyplot as plt\n",
        "import plotly.express as px\n",
        "import seaborn as sns\n",
        "from imblearn.over_sampling import SMOTE\n",
        "from imblearn.under_sampling import NearMiss\n",
        "from sklearn.preprocessing import StandardScaler\n",
        "from sklearn.model_selection import train_test_split\n",
        "from sklearn import preprocessing\n",
        "from sklearn.preprocessing import OneHotEncoder\n",
        "from sklearn.neighbors import KNeighborsClassifier\n",
        "from sklearn.naive_bayes import BernoulliNB\n",
        "from sklearn.tree import DecisionTreeClassifier\n",
        "from sklearn.model_selection import GridSearchCV\n",
        "from sklearn.ensemble import RandomForestClassifier\n",
        "from sklearn.neighbors import KNeighborsClassifier\n",
        "from sklearn.linear_model import LogisticRegression,SGDClassifier\n",
        "from sklearn.metrics import accuracy_score, confusion_matrix, precision_score, recall_score,roc_auc_score, roc_curve, f1_score\n",
        "global df_banco, resultados"
      ]
    },
    {
      "cell_type": "markdown",
      "metadata": {
        "id": "JxDnVA4e2Utc"
      },
      "source": [
        "###2. *PREPROCESAMIENTO DE DATOS*"
      ]
    },
    {
      "cell_type": "code",
      "source": [
        "drive.mount('/content/drive')"
      ],
      "metadata": {
        "colab": {
          "base_uri": "https://localhost:8080/"
        },
        "id": "oHmGMStxSKJO",
        "outputId": "02899201-e8b3-4c8b-b447-ce5c12d85d39"
      },
      "execution_count": 2,
      "outputs": [
        {
          "output_type": "stream",
          "name": "stdout",
          "text": [
            "Mounted at /content/drive\n"
          ]
        }
      ]
    },
    {
      "cell_type": "code",
      "execution_count": 3,
      "metadata": {
        "colab": {
          "base_uri": "https://localhost:8080/",
          "height": 206
        },
        "id": "CT26YMoE2rLB",
        "outputId": "021ccdd6-409f-4bb5-baf4-831dd4a4cdf9"
      },
      "outputs": [
        {
          "output_type": "execute_result",
          "data": {
            "text/plain": [
              "   step      type    amount     nameOrig  oldbalanceOrg  newbalanceOrig  \\\n",
              "0     1   PAYMENT   9839.64  C1231006815       170136.0       160296.36   \n",
              "1     1   PAYMENT   1864.28  C1666544295        21249.0        19384.72   \n",
              "2     1  TRANSFER    181.00  C1305486145          181.0            0.00   \n",
              "3     1  CASH_OUT    181.00   C840083671          181.0            0.00   \n",
              "4     1   PAYMENT  11668.14  C2048537720        41554.0        29885.86   \n",
              "\n",
              "      nameDest  oldbalanceDest  newbalanceDest  isFraud  isFlaggedFraud  \n",
              "0  M1979787155             0.0             0.0        0               0  \n",
              "1  M2044282225             0.0             0.0        0               0  \n",
              "2   C553264065             0.0             0.0        1               0  \n",
              "3    C38997010         21182.0             0.0        1               0  \n",
              "4  M1230701703             0.0             0.0        0               0  "
            ],
            "text/html": [
              "\n",
              "  <div id=\"df-bf0882fc-1162-4d3d-8140-b91ec4b471ac\" class=\"colab-df-container\">\n",
              "    <div>\n",
              "<style scoped>\n",
              "    .dataframe tbody tr th:only-of-type {\n",
              "        vertical-align: middle;\n",
              "    }\n",
              "\n",
              "    .dataframe tbody tr th {\n",
              "        vertical-align: top;\n",
              "    }\n",
              "\n",
              "    .dataframe thead th {\n",
              "        text-align: right;\n",
              "    }\n",
              "</style>\n",
              "<table border=\"1\" class=\"dataframe\">\n",
              "  <thead>\n",
              "    <tr style=\"text-align: right;\">\n",
              "      <th></th>\n",
              "      <th>step</th>\n",
              "      <th>type</th>\n",
              "      <th>amount</th>\n",
              "      <th>nameOrig</th>\n",
              "      <th>oldbalanceOrg</th>\n",
              "      <th>newbalanceOrig</th>\n",
              "      <th>nameDest</th>\n",
              "      <th>oldbalanceDest</th>\n",
              "      <th>newbalanceDest</th>\n",
              "      <th>isFraud</th>\n",
              "      <th>isFlaggedFraud</th>\n",
              "    </tr>\n",
              "  </thead>\n",
              "  <tbody>\n",
              "    <tr>\n",
              "      <th>0</th>\n",
              "      <td>1</td>\n",
              "      <td>PAYMENT</td>\n",
              "      <td>9839.64</td>\n",
              "      <td>C1231006815</td>\n",
              "      <td>170136.0</td>\n",
              "      <td>160296.36</td>\n",
              "      <td>M1979787155</td>\n",
              "      <td>0.0</td>\n",
              "      <td>0.0</td>\n",
              "      <td>0</td>\n",
              "      <td>0</td>\n",
              "    </tr>\n",
              "    <tr>\n",
              "      <th>1</th>\n",
              "      <td>1</td>\n",
              "      <td>PAYMENT</td>\n",
              "      <td>1864.28</td>\n",
              "      <td>C1666544295</td>\n",
              "      <td>21249.0</td>\n",
              "      <td>19384.72</td>\n",
              "      <td>M2044282225</td>\n",
              "      <td>0.0</td>\n",
              "      <td>0.0</td>\n",
              "      <td>0</td>\n",
              "      <td>0</td>\n",
              "    </tr>\n",
              "    <tr>\n",
              "      <th>2</th>\n",
              "      <td>1</td>\n",
              "      <td>TRANSFER</td>\n",
              "      <td>181.00</td>\n",
              "      <td>C1305486145</td>\n",
              "      <td>181.0</td>\n",
              "      <td>0.00</td>\n",
              "      <td>C553264065</td>\n",
              "      <td>0.0</td>\n",
              "      <td>0.0</td>\n",
              "      <td>1</td>\n",
              "      <td>0</td>\n",
              "    </tr>\n",
              "    <tr>\n",
              "      <th>3</th>\n",
              "      <td>1</td>\n",
              "      <td>CASH_OUT</td>\n",
              "      <td>181.00</td>\n",
              "      <td>C840083671</td>\n",
              "      <td>181.0</td>\n",
              "      <td>0.00</td>\n",
              "      <td>C38997010</td>\n",
              "      <td>21182.0</td>\n",
              "      <td>0.0</td>\n",
              "      <td>1</td>\n",
              "      <td>0</td>\n",
              "    </tr>\n",
              "    <tr>\n",
              "      <th>4</th>\n",
              "      <td>1</td>\n",
              "      <td>PAYMENT</td>\n",
              "      <td>11668.14</td>\n",
              "      <td>C2048537720</td>\n",
              "      <td>41554.0</td>\n",
              "      <td>29885.86</td>\n",
              "      <td>M1230701703</td>\n",
              "      <td>0.0</td>\n",
              "      <td>0.0</td>\n",
              "      <td>0</td>\n",
              "      <td>0</td>\n",
              "    </tr>\n",
              "  </tbody>\n",
              "</table>\n",
              "</div>\n",
              "    <div class=\"colab-df-buttons\">\n",
              "\n",
              "  <div class=\"colab-df-container\">\n",
              "    <button class=\"colab-df-convert\" onclick=\"convertToInteractive('df-bf0882fc-1162-4d3d-8140-b91ec4b471ac')\"\n",
              "            title=\"Convert this dataframe to an interactive table.\"\n",
              "            style=\"display:none;\">\n",
              "\n",
              "  <svg xmlns=\"http://www.w3.org/2000/svg\" height=\"24px\" viewBox=\"0 -960 960 960\">\n",
              "    <path d=\"M120-120v-720h720v720H120Zm60-500h600v-160H180v160Zm220 220h160v-160H400v160Zm0 220h160v-160H400v160ZM180-400h160v-160H180v160Zm440 0h160v-160H620v160ZM180-180h160v-160H180v160Zm440 0h160v-160H620v160Z\"/>\n",
              "  </svg>\n",
              "    </button>\n",
              "\n",
              "  <style>\n",
              "    .colab-df-container {\n",
              "      display:flex;\n",
              "      gap: 12px;\n",
              "    }\n",
              "\n",
              "    .colab-df-convert {\n",
              "      background-color: #E8F0FE;\n",
              "      border: none;\n",
              "      border-radius: 50%;\n",
              "      cursor: pointer;\n",
              "      display: none;\n",
              "      fill: #1967D2;\n",
              "      height: 32px;\n",
              "      padding: 0 0 0 0;\n",
              "      width: 32px;\n",
              "    }\n",
              "\n",
              "    .colab-df-convert:hover {\n",
              "      background-color: #E2EBFA;\n",
              "      box-shadow: 0px 1px 2px rgba(60, 64, 67, 0.3), 0px 1px 3px 1px rgba(60, 64, 67, 0.15);\n",
              "      fill: #174EA6;\n",
              "    }\n",
              "\n",
              "    .colab-df-buttons div {\n",
              "      margin-bottom: 4px;\n",
              "    }\n",
              "\n",
              "    [theme=dark] .colab-df-convert {\n",
              "      background-color: #3B4455;\n",
              "      fill: #D2E3FC;\n",
              "    }\n",
              "\n",
              "    [theme=dark] .colab-df-convert:hover {\n",
              "      background-color: #434B5C;\n",
              "      box-shadow: 0px 1px 3px 1px rgba(0, 0, 0, 0.15);\n",
              "      filter: drop-shadow(0px 1px 2px rgba(0, 0, 0, 0.3));\n",
              "      fill: #FFFFFF;\n",
              "    }\n",
              "  </style>\n",
              "\n",
              "    <script>\n",
              "      const buttonEl =\n",
              "        document.querySelector('#df-bf0882fc-1162-4d3d-8140-b91ec4b471ac button.colab-df-convert');\n",
              "      buttonEl.style.display =\n",
              "        google.colab.kernel.accessAllowed ? 'block' : 'none';\n",
              "\n",
              "      async function convertToInteractive(key) {\n",
              "        const element = document.querySelector('#df-bf0882fc-1162-4d3d-8140-b91ec4b471ac');\n",
              "        const dataTable =\n",
              "          await google.colab.kernel.invokeFunction('convertToInteractive',\n",
              "                                                    [key], {});\n",
              "        if (!dataTable) return;\n",
              "\n",
              "        const docLinkHtml = 'Like what you see? Visit the ' +\n",
              "          '<a target=\"_blank\" href=https://colab.research.google.com/notebooks/data_table.ipynb>data table notebook</a>'\n",
              "          + ' to learn more about interactive tables.';\n",
              "        element.innerHTML = '';\n",
              "        dataTable['output_type'] = 'display_data';\n",
              "        await google.colab.output.renderOutput(dataTable, element);\n",
              "        const docLink = document.createElement('div');\n",
              "        docLink.innerHTML = docLinkHtml;\n",
              "        element.appendChild(docLink);\n",
              "      }\n",
              "    </script>\n",
              "  </div>\n",
              "\n",
              "\n",
              "<div id=\"df-86ffeaf6-5767-4f95-b0ec-062e70200a24\">\n",
              "  <button class=\"colab-df-quickchart\" onclick=\"quickchart('df-86ffeaf6-5767-4f95-b0ec-062e70200a24')\"\n",
              "            title=\"Suggest charts\"\n",
              "            style=\"display:none;\">\n",
              "\n",
              "<svg xmlns=\"http://www.w3.org/2000/svg\" height=\"24px\"viewBox=\"0 0 24 24\"\n",
              "     width=\"24px\">\n",
              "    <g>\n",
              "        <path d=\"M19 3H5c-1.1 0-2 .9-2 2v14c0 1.1.9 2 2 2h14c1.1 0 2-.9 2-2V5c0-1.1-.9-2-2-2zM9 17H7v-7h2v7zm4 0h-2V7h2v10zm4 0h-2v-4h2v4z\"/>\n",
              "    </g>\n",
              "</svg>\n",
              "  </button>\n",
              "\n",
              "<style>\n",
              "  .colab-df-quickchart {\n",
              "      --bg-color: #E8F0FE;\n",
              "      --fill-color: #1967D2;\n",
              "      --hover-bg-color: #E2EBFA;\n",
              "      --hover-fill-color: #174EA6;\n",
              "      --disabled-fill-color: #AAA;\n",
              "      --disabled-bg-color: #DDD;\n",
              "  }\n",
              "\n",
              "  [theme=dark] .colab-df-quickchart {\n",
              "      --bg-color: #3B4455;\n",
              "      --fill-color: #D2E3FC;\n",
              "      --hover-bg-color: #434B5C;\n",
              "      --hover-fill-color: #FFFFFF;\n",
              "      --disabled-bg-color: #3B4455;\n",
              "      --disabled-fill-color: #666;\n",
              "  }\n",
              "\n",
              "  .colab-df-quickchart {\n",
              "    background-color: var(--bg-color);\n",
              "    border: none;\n",
              "    border-radius: 50%;\n",
              "    cursor: pointer;\n",
              "    display: none;\n",
              "    fill: var(--fill-color);\n",
              "    height: 32px;\n",
              "    padding: 0;\n",
              "    width: 32px;\n",
              "  }\n",
              "\n",
              "  .colab-df-quickchart:hover {\n",
              "    background-color: var(--hover-bg-color);\n",
              "    box-shadow: 0 1px 2px rgba(60, 64, 67, 0.3), 0 1px 3px 1px rgba(60, 64, 67, 0.15);\n",
              "    fill: var(--button-hover-fill-color);\n",
              "  }\n",
              "\n",
              "  .colab-df-quickchart-complete:disabled,\n",
              "  .colab-df-quickchart-complete:disabled:hover {\n",
              "    background-color: var(--disabled-bg-color);\n",
              "    fill: var(--disabled-fill-color);\n",
              "    box-shadow: none;\n",
              "  }\n",
              "\n",
              "  .colab-df-spinner {\n",
              "    border: 2px solid var(--fill-color);\n",
              "    border-color: transparent;\n",
              "    border-bottom-color: var(--fill-color);\n",
              "    animation:\n",
              "      spin 1s steps(1) infinite;\n",
              "  }\n",
              "\n",
              "  @keyframes spin {\n",
              "    0% {\n",
              "      border-color: transparent;\n",
              "      border-bottom-color: var(--fill-color);\n",
              "      border-left-color: var(--fill-color);\n",
              "    }\n",
              "    20% {\n",
              "      border-color: transparent;\n",
              "      border-left-color: var(--fill-color);\n",
              "      border-top-color: var(--fill-color);\n",
              "    }\n",
              "    30% {\n",
              "      border-color: transparent;\n",
              "      border-left-color: var(--fill-color);\n",
              "      border-top-color: var(--fill-color);\n",
              "      border-right-color: var(--fill-color);\n",
              "    }\n",
              "    40% {\n",
              "      border-color: transparent;\n",
              "      border-right-color: var(--fill-color);\n",
              "      border-top-color: var(--fill-color);\n",
              "    }\n",
              "    60% {\n",
              "      border-color: transparent;\n",
              "      border-right-color: var(--fill-color);\n",
              "    }\n",
              "    80% {\n",
              "      border-color: transparent;\n",
              "      border-right-color: var(--fill-color);\n",
              "      border-bottom-color: var(--fill-color);\n",
              "    }\n",
              "    90% {\n",
              "      border-color: transparent;\n",
              "      border-bottom-color: var(--fill-color);\n",
              "    }\n",
              "  }\n",
              "</style>\n",
              "\n",
              "  <script>\n",
              "    async function quickchart(key) {\n",
              "      const quickchartButtonEl =\n",
              "        document.querySelector('#' + key + ' button');\n",
              "      quickchartButtonEl.disabled = true;  // To prevent multiple clicks.\n",
              "      quickchartButtonEl.classList.add('colab-df-spinner');\n",
              "      try {\n",
              "        const charts = await google.colab.kernel.invokeFunction(\n",
              "            'suggestCharts', [key], {});\n",
              "      } catch (error) {\n",
              "        console.error('Error during call to suggestCharts:', error);\n",
              "      }\n",
              "      quickchartButtonEl.classList.remove('colab-df-spinner');\n",
              "      quickchartButtonEl.classList.add('colab-df-quickchart-complete');\n",
              "    }\n",
              "    (() => {\n",
              "      let quickchartButtonEl =\n",
              "        document.querySelector('#df-86ffeaf6-5767-4f95-b0ec-062e70200a24 button');\n",
              "      quickchartButtonEl.style.display =\n",
              "        google.colab.kernel.accessAllowed ? 'block' : 'none';\n",
              "    })();\n",
              "  </script>\n",
              "</div>\n",
              "\n",
              "    </div>\n",
              "  </div>\n"
            ],
            "application/vnd.google.colaboratory.intrinsic+json": {
              "type": "dataframe",
              "variable_name": "df_banco"
            }
          },
          "metadata": {},
          "execution_count": 3
        }
      ],
      "source": [
        "df_banco = pd.read_csv(\"/content/drive/MyDrive/datasets/transacciones_dataset.csv\", sep=\",\")\n",
        "df_banco.head()"
      ]
    },
    {
      "cell_type": "code",
      "execution_count": 4,
      "metadata": {
        "colab": {
          "base_uri": "https://localhost:8080/"
        },
        "id": "VQwqNsY058sI",
        "outputId": "0e4e5d2f-8b0c-4cef-84ef-b98417a5733a"
      },
      "outputs": [
        {
          "output_type": "stream",
          "name": "stdout",
          "text": [
            "<class 'pandas.core.frame.DataFrame'>\n",
            "RangeIndex: 6362620 entries, 0 to 6362619\n",
            "Data columns (total 11 columns):\n",
            " #   Column          Dtype  \n",
            "---  ------          -----  \n",
            " 0   step            int64  \n",
            " 1   type            object \n",
            " 2   amount          float64\n",
            " 3   nameOrig        object \n",
            " 4   oldbalanceOrg   float64\n",
            " 5   newbalanceOrig  float64\n",
            " 6   nameDest        object \n",
            " 7   oldbalanceDest  float64\n",
            " 8   newbalanceDest  float64\n",
            " 9   isFraud         int64  \n",
            " 10  isFlaggedFraud  int64  \n",
            "dtypes: float64(5), int64(3), object(3)\n",
            "memory usage: 534.0+ MB\n"
          ]
        }
      ],
      "source": [
        "df_banco.info()"
      ]
    },
    {
      "cell_type": "code",
      "execution_count": 5,
      "metadata": {
        "colab": {
          "base_uri": "https://localhost:8080/"
        },
        "id": "Mgm1fgMh6jq5",
        "outputId": "d1863bf0-3122-4235-92a1-0b9f1aeecb08"
      },
      "outputs": [
        {
          "output_type": "execute_result",
          "data": {
            "text/plain": [
              "(6362620, 11)"
            ]
          },
          "metadata": {},
          "execution_count": 5
        }
      ],
      "source": [
        "df_banco.shape"
      ]
    },
    {
      "cell_type": "code",
      "execution_count": 6,
      "metadata": {
        "colab": {
          "base_uri": "https://localhost:8080/"
        },
        "id": "KrynQ9cm7HsQ",
        "outputId": "3e527e11-a9f9-45b8-c77d-03ba6c0f0ffd"
      },
      "outputs": [
        {
          "output_type": "execute_result",
          "data": {
            "text/plain": [
              "Index(['step', 'type', 'amount', 'nameOrig', 'oldbalanceOrg', 'newbalanceOrig',\n",
              "       'nameDest', 'oldbalanceDest', 'newbalanceDest', 'isFraud',\n",
              "       'isFlaggedFraud'],\n",
              "      dtype='object')"
            ]
          },
          "metadata": {},
          "execution_count": 6
        }
      ],
      "source": [
        "df_banco.columns"
      ]
    },
    {
      "cell_type": "markdown",
      "source": [
        "Analisis de los datos:\n",
        "1.   Todos los \"isFlaggedFraud = 1\" cumplen estas condiciones (16)\n",
        "  *   mount > 200000.00\n",
        "  *   type = TRANSFER\n",
        "  *   isFraud = 1\n",
        "2.   Los Fraudes solo se producen en:\n",
        "  *   type = TRANSFER y CASH_OUT\n",
        "  *   type2_CC = 1\n",
        "3.   Siempre se cumple que\n",
        "  *   oldbalanceOrg - amount = newbalanceOrig\n",
        "  \n",
        "Las cuentas para las transferencias siempre son distintas"
      ],
      "metadata": {
        "id": "MNZec7J_42j1"
      }
    },
    {
      "cell_type": "code",
      "execution_count": 7,
      "metadata": {
        "id": "N74knSpPJyLN"
      },
      "outputs": [],
      "source": [
        "def procesar_datos():\n",
        "    global df_banco\n",
        "    #Creacion de la variable type2\n",
        "    df_banco[\"type2\"] = df_banco[\"nameDest\"].apply(lambda x : \"CC\" if x[0] == \"C\" else \"CM\")\n",
        "    #Convierto los valores categoricos a continuos con el metodo get_dummies\n",
        "    df_banco = pd.get_dummies(df_banco, columns=['type','type2'], dtype=int)\n",
        "    #Elimino Columnas prescindibles\n",
        "    df_banco.drop(['nameOrig', 'nameDest', 'isFlaggedFraud','oldbalanceOrg','newbalanceOrig','oldbalanceDest','newbalanceDest'], axis=1, inplace=True)\n",
        "    #Eliminando duplicados\n",
        "    df_banco.drop_duplicates(inplace=True)\n",
        "    # Tratamiento de nulos\n",
        "    df_banco.dropna(inplace=True)"
      ]
    },
    {
      "cell_type": "code",
      "execution_count": 8,
      "metadata": {
        "colab": {
          "base_uri": "https://localhost:8080/",
          "height": 206
        },
        "id": "sVTxiythQ6ny",
        "outputId": "35791c97-bb4f-48bc-bc05-bf4bf2ab7e9f"
      },
      "outputs": [
        {
          "output_type": "execute_result",
          "data": {
            "text/plain": [
              "   step    amount  isFraud  type_CASH_IN  type_CASH_OUT  type_DEBIT  \\\n",
              "0     1   9839.64        0             0              0           0   \n",
              "1     1   1864.28        0             0              0           0   \n",
              "2     1    181.00        1             0              0           0   \n",
              "3     1    181.00        1             0              1           0   \n",
              "4     1  11668.14        0             0              0           0   \n",
              "\n",
              "   type_PAYMENT  type_TRANSFER  type2_CC  type2_CM  \n",
              "0             1              0         0         1  \n",
              "1             1              0         0         1  \n",
              "2             0              1         1         0  \n",
              "3             0              0         1         0  \n",
              "4             1              0         0         1  "
            ],
            "text/html": [
              "\n",
              "  <div id=\"df-cebd831a-123e-48c6-81c1-276d3ebaa62e\" class=\"colab-df-container\">\n",
              "    <div>\n",
              "<style scoped>\n",
              "    .dataframe tbody tr th:only-of-type {\n",
              "        vertical-align: middle;\n",
              "    }\n",
              "\n",
              "    .dataframe tbody tr th {\n",
              "        vertical-align: top;\n",
              "    }\n",
              "\n",
              "    .dataframe thead th {\n",
              "        text-align: right;\n",
              "    }\n",
              "</style>\n",
              "<table border=\"1\" class=\"dataframe\">\n",
              "  <thead>\n",
              "    <tr style=\"text-align: right;\">\n",
              "      <th></th>\n",
              "      <th>step</th>\n",
              "      <th>amount</th>\n",
              "      <th>isFraud</th>\n",
              "      <th>type_CASH_IN</th>\n",
              "      <th>type_CASH_OUT</th>\n",
              "      <th>type_DEBIT</th>\n",
              "      <th>type_PAYMENT</th>\n",
              "      <th>type_TRANSFER</th>\n",
              "      <th>type2_CC</th>\n",
              "      <th>type2_CM</th>\n",
              "    </tr>\n",
              "  </thead>\n",
              "  <tbody>\n",
              "    <tr>\n",
              "      <th>0</th>\n",
              "      <td>1</td>\n",
              "      <td>9839.64</td>\n",
              "      <td>0</td>\n",
              "      <td>0</td>\n",
              "      <td>0</td>\n",
              "      <td>0</td>\n",
              "      <td>1</td>\n",
              "      <td>0</td>\n",
              "      <td>0</td>\n",
              "      <td>1</td>\n",
              "    </tr>\n",
              "    <tr>\n",
              "      <th>1</th>\n",
              "      <td>1</td>\n",
              "      <td>1864.28</td>\n",
              "      <td>0</td>\n",
              "      <td>0</td>\n",
              "      <td>0</td>\n",
              "      <td>0</td>\n",
              "      <td>1</td>\n",
              "      <td>0</td>\n",
              "      <td>0</td>\n",
              "      <td>1</td>\n",
              "    </tr>\n",
              "    <tr>\n",
              "      <th>2</th>\n",
              "      <td>1</td>\n",
              "      <td>181.00</td>\n",
              "      <td>1</td>\n",
              "      <td>0</td>\n",
              "      <td>0</td>\n",
              "      <td>0</td>\n",
              "      <td>0</td>\n",
              "      <td>1</td>\n",
              "      <td>1</td>\n",
              "      <td>0</td>\n",
              "    </tr>\n",
              "    <tr>\n",
              "      <th>3</th>\n",
              "      <td>1</td>\n",
              "      <td>181.00</td>\n",
              "      <td>1</td>\n",
              "      <td>0</td>\n",
              "      <td>1</td>\n",
              "      <td>0</td>\n",
              "      <td>0</td>\n",
              "      <td>0</td>\n",
              "      <td>1</td>\n",
              "      <td>0</td>\n",
              "    </tr>\n",
              "    <tr>\n",
              "      <th>4</th>\n",
              "      <td>1</td>\n",
              "      <td>11668.14</td>\n",
              "      <td>0</td>\n",
              "      <td>0</td>\n",
              "      <td>0</td>\n",
              "      <td>0</td>\n",
              "      <td>1</td>\n",
              "      <td>0</td>\n",
              "      <td>0</td>\n",
              "      <td>1</td>\n",
              "    </tr>\n",
              "  </tbody>\n",
              "</table>\n",
              "</div>\n",
              "    <div class=\"colab-df-buttons\">\n",
              "\n",
              "  <div class=\"colab-df-container\">\n",
              "    <button class=\"colab-df-convert\" onclick=\"convertToInteractive('df-cebd831a-123e-48c6-81c1-276d3ebaa62e')\"\n",
              "            title=\"Convert this dataframe to an interactive table.\"\n",
              "            style=\"display:none;\">\n",
              "\n",
              "  <svg xmlns=\"http://www.w3.org/2000/svg\" height=\"24px\" viewBox=\"0 -960 960 960\">\n",
              "    <path d=\"M120-120v-720h720v720H120Zm60-500h600v-160H180v160Zm220 220h160v-160H400v160Zm0 220h160v-160H400v160ZM180-400h160v-160H180v160Zm440 0h160v-160H620v160ZM180-180h160v-160H180v160Zm440 0h160v-160H620v160Z\"/>\n",
              "  </svg>\n",
              "    </button>\n",
              "\n",
              "  <style>\n",
              "    .colab-df-container {\n",
              "      display:flex;\n",
              "      gap: 12px;\n",
              "    }\n",
              "\n",
              "    .colab-df-convert {\n",
              "      background-color: #E8F0FE;\n",
              "      border: none;\n",
              "      border-radius: 50%;\n",
              "      cursor: pointer;\n",
              "      display: none;\n",
              "      fill: #1967D2;\n",
              "      height: 32px;\n",
              "      padding: 0 0 0 0;\n",
              "      width: 32px;\n",
              "    }\n",
              "\n",
              "    .colab-df-convert:hover {\n",
              "      background-color: #E2EBFA;\n",
              "      box-shadow: 0px 1px 2px rgba(60, 64, 67, 0.3), 0px 1px 3px 1px rgba(60, 64, 67, 0.15);\n",
              "      fill: #174EA6;\n",
              "    }\n",
              "\n",
              "    .colab-df-buttons div {\n",
              "      margin-bottom: 4px;\n",
              "    }\n",
              "\n",
              "    [theme=dark] .colab-df-convert {\n",
              "      background-color: #3B4455;\n",
              "      fill: #D2E3FC;\n",
              "    }\n",
              "\n",
              "    [theme=dark] .colab-df-convert:hover {\n",
              "      background-color: #434B5C;\n",
              "      box-shadow: 0px 1px 3px 1px rgba(0, 0, 0, 0.15);\n",
              "      filter: drop-shadow(0px 1px 2px rgba(0, 0, 0, 0.3));\n",
              "      fill: #FFFFFF;\n",
              "    }\n",
              "  </style>\n",
              "\n",
              "    <script>\n",
              "      const buttonEl =\n",
              "        document.querySelector('#df-cebd831a-123e-48c6-81c1-276d3ebaa62e button.colab-df-convert');\n",
              "      buttonEl.style.display =\n",
              "        google.colab.kernel.accessAllowed ? 'block' : 'none';\n",
              "\n",
              "      async function convertToInteractive(key) {\n",
              "        const element = document.querySelector('#df-cebd831a-123e-48c6-81c1-276d3ebaa62e');\n",
              "        const dataTable =\n",
              "          await google.colab.kernel.invokeFunction('convertToInteractive',\n",
              "                                                    [key], {});\n",
              "        if (!dataTable) return;\n",
              "\n",
              "        const docLinkHtml = 'Like what you see? Visit the ' +\n",
              "          '<a target=\"_blank\" href=https://colab.research.google.com/notebooks/data_table.ipynb>data table notebook</a>'\n",
              "          + ' to learn more about interactive tables.';\n",
              "        element.innerHTML = '';\n",
              "        dataTable['output_type'] = 'display_data';\n",
              "        await google.colab.output.renderOutput(dataTable, element);\n",
              "        const docLink = document.createElement('div');\n",
              "        docLink.innerHTML = docLinkHtml;\n",
              "        element.appendChild(docLink);\n",
              "      }\n",
              "    </script>\n",
              "  </div>\n",
              "\n",
              "\n",
              "<div id=\"df-651a4315-1819-4543-a3b9-763a49515c76\">\n",
              "  <button class=\"colab-df-quickchart\" onclick=\"quickchart('df-651a4315-1819-4543-a3b9-763a49515c76')\"\n",
              "            title=\"Suggest charts\"\n",
              "            style=\"display:none;\">\n",
              "\n",
              "<svg xmlns=\"http://www.w3.org/2000/svg\" height=\"24px\"viewBox=\"0 0 24 24\"\n",
              "     width=\"24px\">\n",
              "    <g>\n",
              "        <path d=\"M19 3H5c-1.1 0-2 .9-2 2v14c0 1.1.9 2 2 2h14c1.1 0 2-.9 2-2V5c0-1.1-.9-2-2-2zM9 17H7v-7h2v7zm4 0h-2V7h2v10zm4 0h-2v-4h2v4z\"/>\n",
              "    </g>\n",
              "</svg>\n",
              "  </button>\n",
              "\n",
              "<style>\n",
              "  .colab-df-quickchart {\n",
              "      --bg-color: #E8F0FE;\n",
              "      --fill-color: #1967D2;\n",
              "      --hover-bg-color: #E2EBFA;\n",
              "      --hover-fill-color: #174EA6;\n",
              "      --disabled-fill-color: #AAA;\n",
              "      --disabled-bg-color: #DDD;\n",
              "  }\n",
              "\n",
              "  [theme=dark] .colab-df-quickchart {\n",
              "      --bg-color: #3B4455;\n",
              "      --fill-color: #D2E3FC;\n",
              "      --hover-bg-color: #434B5C;\n",
              "      --hover-fill-color: #FFFFFF;\n",
              "      --disabled-bg-color: #3B4455;\n",
              "      --disabled-fill-color: #666;\n",
              "  }\n",
              "\n",
              "  .colab-df-quickchart {\n",
              "    background-color: var(--bg-color);\n",
              "    border: none;\n",
              "    border-radius: 50%;\n",
              "    cursor: pointer;\n",
              "    display: none;\n",
              "    fill: var(--fill-color);\n",
              "    height: 32px;\n",
              "    padding: 0;\n",
              "    width: 32px;\n",
              "  }\n",
              "\n",
              "  .colab-df-quickchart:hover {\n",
              "    background-color: var(--hover-bg-color);\n",
              "    box-shadow: 0 1px 2px rgba(60, 64, 67, 0.3), 0 1px 3px 1px rgba(60, 64, 67, 0.15);\n",
              "    fill: var(--button-hover-fill-color);\n",
              "  }\n",
              "\n",
              "  .colab-df-quickchart-complete:disabled,\n",
              "  .colab-df-quickchart-complete:disabled:hover {\n",
              "    background-color: var(--disabled-bg-color);\n",
              "    fill: var(--disabled-fill-color);\n",
              "    box-shadow: none;\n",
              "  }\n",
              "\n",
              "  .colab-df-spinner {\n",
              "    border: 2px solid var(--fill-color);\n",
              "    border-color: transparent;\n",
              "    border-bottom-color: var(--fill-color);\n",
              "    animation:\n",
              "      spin 1s steps(1) infinite;\n",
              "  }\n",
              "\n",
              "  @keyframes spin {\n",
              "    0% {\n",
              "      border-color: transparent;\n",
              "      border-bottom-color: var(--fill-color);\n",
              "      border-left-color: var(--fill-color);\n",
              "    }\n",
              "    20% {\n",
              "      border-color: transparent;\n",
              "      border-left-color: var(--fill-color);\n",
              "      border-top-color: var(--fill-color);\n",
              "    }\n",
              "    30% {\n",
              "      border-color: transparent;\n",
              "      border-left-color: var(--fill-color);\n",
              "      border-top-color: var(--fill-color);\n",
              "      border-right-color: var(--fill-color);\n",
              "    }\n",
              "    40% {\n",
              "      border-color: transparent;\n",
              "      border-right-color: var(--fill-color);\n",
              "      border-top-color: var(--fill-color);\n",
              "    }\n",
              "    60% {\n",
              "      border-color: transparent;\n",
              "      border-right-color: var(--fill-color);\n",
              "    }\n",
              "    80% {\n",
              "      border-color: transparent;\n",
              "      border-right-color: var(--fill-color);\n",
              "      border-bottom-color: var(--fill-color);\n",
              "    }\n",
              "    90% {\n",
              "      border-color: transparent;\n",
              "      border-bottom-color: var(--fill-color);\n",
              "    }\n",
              "  }\n",
              "</style>\n",
              "\n",
              "  <script>\n",
              "    async function quickchart(key) {\n",
              "      const quickchartButtonEl =\n",
              "        document.querySelector('#' + key + ' button');\n",
              "      quickchartButtonEl.disabled = true;  // To prevent multiple clicks.\n",
              "      quickchartButtonEl.classList.add('colab-df-spinner');\n",
              "      try {\n",
              "        const charts = await google.colab.kernel.invokeFunction(\n",
              "            'suggestCharts', [key], {});\n",
              "      } catch (error) {\n",
              "        console.error('Error during call to suggestCharts:', error);\n",
              "      }\n",
              "      quickchartButtonEl.classList.remove('colab-df-spinner');\n",
              "      quickchartButtonEl.classList.add('colab-df-quickchart-complete');\n",
              "    }\n",
              "    (() => {\n",
              "      let quickchartButtonEl =\n",
              "        document.querySelector('#df-651a4315-1819-4543-a3b9-763a49515c76 button');\n",
              "      quickchartButtonEl.style.display =\n",
              "        google.colab.kernel.accessAllowed ? 'block' : 'none';\n",
              "    })();\n",
              "  </script>\n",
              "</div>\n",
              "\n",
              "    </div>\n",
              "  </div>\n"
            ],
            "application/vnd.google.colaboratory.intrinsic+json": {
              "type": "dataframe",
              "variable_name": "df_banco"
            }
          },
          "metadata": {},
          "execution_count": 8
        }
      ],
      "source": [
        "procesar_datos()\n",
        "df_banco.head()"
      ]
    },
    {
      "cell_type": "markdown",
      "metadata": {
        "id": "Ww9dw6x7NzjM"
      },
      "source": [
        "###3. *EXPLORAMIENTO DE DATOS*"
      ]
    },
    {
      "cell_type": "code",
      "execution_count": 9,
      "metadata": {
        "colab": {
          "base_uri": "https://localhost:8080/"
        },
        "id": "3qvRX2Z8N4aP",
        "outputId": "17bdeff0-8317-46db-8200-ed74ca24616f"
      },
      "outputs": [
        {
          "output_type": "execute_result",
          "data": {
            "text/plain": [
              "isFraud\n",
              "0    6346920\n",
              "1       8103\n",
              "Name: count, dtype: int64"
            ]
          },
          "metadata": {},
          "execution_count": 9
        }
      ],
      "source": [
        "#Observemos la variable target isFraud\n",
        "df_banco[\"isFraud\"].value_counts()"
      ]
    },
    {
      "cell_type": "code",
      "execution_count": 10,
      "metadata": {
        "colab": {
          "base_uri": "https://localhost:8080/",
          "height": 465
        },
        "id": "2wrzThigSmcj",
        "outputId": "85e9ff24-0376-4a1e-876a-ed51be3392d0"
      },
      "outputs": [
        {
          "output_type": "display_data",
          "data": {
            "text/plain": [
              "<Figure size 640x480 with 1 Axes>"
            ],
            "image/png": "[encoded data removed]"
          },
          "metadata": {}
        }
      ],
      "source": [
        "ax = sns.countplot(x=\"isFraud\", data=df_banco)"
      ]
    },
    {
      "cell_type": "markdown",
      "metadata": {
        "id": "HtLN7dcpTSXo"
      },
      "source": [
        "La variable isFraud esta muy desbalanceada, tendremos que arreglar esto"
      ]
    },
    {
      "cell_type": "code",
      "execution_count": 11,
      "metadata": {
        "colab": {
          "base_uri": "https://localhost:8080/",
          "height": 462
        },
        "id": "acbAtMeAZQ0C",
        "outputId": "e296389b-1387-49bf-d01f-18f2088c3d78"
      },
      "outputs": [
        {
          "output_type": "execute_result",
          "data": {
            "text/plain": [
              "<Axes: >"
            ]
          },
          "metadata": {},
          "execution_count": 11
        },
        {
          "output_type": "display_data",
          "data": {
            "text/plain": [
              "<Figure size 640x480 with 1 Axes>"
            ],
            "image/png": "[encoded data removed]"
          },
          "metadata": {}
        }
      ],
      "source": [
        "df_banco.boxplot([\"amount\"])"
      ]
    },
    {
      "cell_type": "markdown",
      "source": [
        "Los montos tienen mucho outlier lo cual esto puede afectar al modelo, mejor deshacernos de ellos"
      ],
      "metadata": {
        "id": "d1v4hpc7Dh5u"
      }
    },
    {
      "cell_type": "code",
      "execution_count": 12,
      "metadata": {
        "id": "I1fj6gMubNPd"
      },
      "outputs": [],
      "source": [
        "def boxploting():\n",
        "    global df_banco\n",
        "    amount = df_banco[\"amount\"]\n",
        "    q1 = amount.quantile(.25)\n",
        "    q3 = amount.quantile(.75)\n",
        "    iiq = q3 - q1\n",
        "    limite_inferior = q1 - 1.5 * iiq\n",
        "    limite_superior = q3 + 1.5 * iiq\n",
        "    select = ((amount >= limite_inferior) & (amount <= limite_superior))\n",
        "    df_banco = df_banco[select]\n",
        "    #Eliminando duplicados\n",
        "    df_banco.drop_duplicates(inplace=True)\n",
        "    #Tratamiento de nulos\n",
        "    df_banco.dropna(inplace=True)"
      ]
    },
    {
      "cell_type": "code",
      "execution_count": 13,
      "metadata": {
        "colab": {
          "base_uri": "https://localhost:8080/",
          "height": 447
        },
        "id": "PaQvqKoVeWD5",
        "outputId": "0c716445-16cf-4b0d-aec5-3ffa1e7377ce"
      },
      "outputs": [
        {
          "output_type": "execute_result",
          "data": {
            "text/plain": [
              "<Axes: >"
            ]
          },
          "metadata": {},
          "execution_count": 13
        },
        {
          "output_type": "display_data",
          "data": {
            "text/plain": [
              "<Figure size 640x480 with 1 Axes>"
            ],
            "image/png": "[encoded data removed]"
          },
          "metadata": {}
        }
      ],
      "source": [
        "boxploting()\n",
        "df_banco.boxplot([\"amount\"])"
      ]
    },
    {
      "cell_type": "code",
      "execution_count": 14,
      "metadata": {
        "id": "_bQZy9mjfAkG"
      },
      "outputs": [],
      "source": [
        "def balanceo_clases():\n",
        "    global df_banco\n",
        "    x = df_banco.drop(\"isFraud\", axis=1)\n",
        "    y = df_banco[\"isFraud\"]\n",
        "    # Aplicar SMOTE para aumentar la clase minoritaria\n",
        "    smt = SMOTE(random_state=77)\n",
        "    x_resampled, y_resampled = smt.fit_resample(x, y)\n",
        "    # Aplicar NearMiss para disminuir la clase mayoritaria\n",
        "    nm = NearMiss()\n",
        "    x_resampled_nm, y_resampled_nm = nm.fit_resample(x_resampled, y_resampled)\n",
        "    # Crear un nuevo DataFrame con los datos balanceados\n",
        "    df_banco = pd.concat([pd.DataFrame(x_resampled_nm, columns=x.columns), pd.DataFrame(y_resampled_nm, columns=[\"isFraud\"])], axis=1)\n",
        "    # Eliminar duplicados\n",
        "    df_banco.drop_duplicates(inplace=True)\n",
        "    # Tratamiento de valores nulos\n",
        "    df_banco.dropna(inplace=True)"
      ]
    },
    {
      "cell_type": "code",
      "execution_count": 15,
      "metadata": {
        "colab": {
          "base_uri": "https://localhost:8080/"
        },
        "id": "tcSljosSfE0-",
        "outputId": "fdb92720-c41e-4d8e-bf21-cf6396fd79e0"
      },
      "outputs": [
        {
          "output_type": "execute_result",
          "data": {
            "text/plain": [
              "isFraud\n",
              "0    6015158\n",
              "1    4810959\n",
              "Name: count, dtype: int64"
            ]
          },
          "metadata": {},
          "execution_count": 15
        }
      ],
      "source": [
        "balanceo_clases()\n",
        "df_banco[\"isFraud\"].value_counts()"
      ]
    },
    {
      "cell_type": "code",
      "execution_count": 16,
      "metadata": {
        "colab": {
          "base_uri": "https://localhost:8080/",
          "height": 465
        },
        "id": "w7chPlexfJFa",
        "outputId": "a15c0879-25c1-4045-906b-dd1617c3750e"
      },
      "outputs": [
        {
          "output_type": "display_data",
          "data": {
            "text/plain": [
              "<Figure size 640x480 with 1 Axes>"
            ],
            "image/png": "[encoded data removed]"
          },
          "metadata": {}
        }
      ],
      "source": [
        "ax = sns.countplot(x=\"isFraud\", data=df_banco)"
      ]
    },
    {
      "cell_type": "code",
      "execution_count": 17,
      "metadata": {
        "colab": {
          "base_uri": "https://localhost:8080/",
          "height": 1000
        },
        "id": "l8hqOB7qVfZw",
        "outputId": "f5cc67ba-1d32-4775-9616-e2d57da5e365"
      },
      "outputs": [
        {
          "output_type": "execute_result",
          "data": {
            "text/plain": [
              "<Axes: title={'center': 'Pearson Correlation of Features'}>"
            ]
          },
          "metadata": {},
          "execution_count": 17
        },
        {
          "output_type": "display_data",
          "data": {
            "text/plain": [
              "<Figure size 1400x1200 with 2 Axes>"
            ],
            "image/png": "[encoded data removed]"
          },
          "metadata": {}
        }
      ],
      "source": [
        "correlation_matrix = df_banco.corr()\n",
        "colormap = plt.cm.RdBu\n",
        "plt.figure(figsize=(14,12))\n",
        "plt.title('Pearson Correlation of Features', y=1.05, size=15)\n",
        "sns.heatmap(correlation_matrix,linewidths=0.1,vmax=1.0,\n",
        "            square=True, cmap=colormap, linecolor='black', annot=True)"
      ]
    },
    {
      "cell_type": "markdown",
      "metadata": {
        "id": "ZSe5dSwWjbxs"
      },
      "source": [
        "Podemos observar que las columnas que más se correlacionan al label isFraud son:\n",
        "\n",
        "De forma positiva: step, amount, type_TRANSFER, type2_CC\n",
        "\n",
        "De forma negativa: type_DEBIT, type_PAYMENT, type_CASH_IN, type_CASH_OUT, type2_CC  (precisamente no hay fraudes para este tipo de transacciones)"
      ]
    },
    {
      "cell_type": "markdown",
      "metadata": {
        "id": "dWwWuKvagSYk"
      },
      "source": [
        "###4. *CREACION DE LOS MODELOS*"
      ]
    },
    {
      "cell_type": "code",
      "execution_count": 18,
      "metadata": {
        "id": "ye69MCd4gWE-"
      },
      "outputs": [],
      "source": [
        "def crea_modelos():\n",
        "    global df_banco, resultados\n",
        "    #Division de los datos\n",
        "    y = df_banco['isFraud']\n",
        "    x = df_banco.drop(columns='isFraud')\n",
        "    train_x, test_x, train_y, test_y = train_test_split(x, y, test_size=0.30, random_state = 77)\n",
        "    #Inicializo modelo\n",
        "    knn = KNeighborsClassifier(metric=\"euclidean\")\n",
        "    bnb = BernoulliNB()\n",
        "    dtc = DecisionTreeClassifier(criterion=\"entropy\", random_state = 42)\n",
        "    rf = RandomForestClassifier(n_estimators=100, criterion='entropy', random_state=42)\n",
        "    #Entrenamiento del modelo\n",
        "    knn.fit(train_x, train_y)\n",
        "    bnb.fit(train_x, train_y)\n",
        "    dtc.fit(train_x, train_y)\n",
        "    rf.fit(train_x, train_y)\n",
        "    #Resultados\n",
        "    prediccion_knn = knn.predict(test_x)\n",
        "    prediccion_bnb = bnb.predict(test_x)\n",
        "    prediccion_dtc = dtc.predict(test_x)\n",
        "    prediccion_rf = rf.predict(test_x)\n",
        "    #Metricas de cada modelo\n",
        "    accuracy_knn = accuracy_score(test_y, prediccion_knn)\n",
        "    precision_knn = precision_score(test_y, prediccion_knn)\n",
        "    recall_knn = recall_score(test_y, prediccion_knn)\n",
        "    f1_score_knn = precision_score(test_y, prediccion_knn)\n",
        "    auc_roc_knn = roc_auc_score(test_y, prediccion_knn)\n",
        "\n",
        "    accuracy_bnb = accuracy_score(test_y, prediccion_bnb)\n",
        "    precision_bnb = precision_score(test_y, prediccion_bnb)\n",
        "    recall_bnb = recall_score(test_y, prediccion_bnb)\n",
        "    f1_score_bnb = precision_score(test_y, prediccion_bnb)\n",
        "    auc_roc_bnb = roc_auc_score(test_y, prediccion_bnb)\n",
        "\n",
        "    accuracy_dtc = accuracy_score(test_y, prediccion_dtc)\n",
        "    precision_dtc = precision_score(test_y, prediccion_dtc)\n",
        "    recall_dtc = recall_score(test_y, prediccion_dtc)\n",
        "    f1_score_dtc = precision_score(test_y, prediccion_dtc)\n",
        "    auc_roc_dtc = roc_auc_score(test_y, prediccion_dtc)\n",
        "\n",
        "    accuracy_rf = accuracy_score(test_y, prediccion_rf)\n",
        "    precision_rf = precision_score(test_y, prediccion_rf)\n",
        "    recall_rf = recall_score(test_y, prediccion_rf)\n",
        "    f1_score_rf = precision_score(test_y, prediccion_rf)\n",
        "    auc_roc_rf = roc_auc_score(test_y, prediccion_rf)\n",
        "\n",
        "    #Lista de cada modelo y sus metricas\n",
        "    nombre_modelo = []\n",
        "    accuracy = []\n",
        "    precision = []\n",
        "    recall = []\n",
        "    f1_score = []\n",
        "    auc_roc = []\n",
        "    nombre_modelo.append(\"Kneighbors\")\n",
        "    nombre_modelo.append(\"Bernoulli\")\n",
        "    nombre_modelo.append(\"DecisionTreeClassifier\")\n",
        "    nombre_modelo.append(\"RandomForest\")\n",
        "    accuracy.append(accuracy_knn)\n",
        "    accuracy.append(accuracy_bnb)\n",
        "    accuracy.append(accuracy_dtc)\n",
        "    accuracy.append(accuracy_rf)\n",
        "    precision.append(precision_knn)\n",
        "    precision.append(precision_bnb)\n",
        "    precision.append(precision_dtc)\n",
        "    precision.append(precision_rf)\n",
        "    recall.append(recall_knn)\n",
        "    recall.append(recall_bnb)\n",
        "    recall.append(recall_dtc)\n",
        "    recall.append(recall_rf)\n",
        "    f1_score.append(f1_score_knn)\n",
        "    f1_score.append(f1_score_bnb)\n",
        "    f1_score.append(f1_score_dtc)\n",
        "    f1_score.append(f1_score_rf)\n",
        "    auc_roc.append(auc_roc_knn)\n",
        "    auc_roc.append(auc_roc_bnb)\n",
        "    auc_roc.append(auc_roc_dtc)\n",
        "    auc_roc.append(auc_roc_rf)\n",
        "    #Resultados de las prediccion de cada modelo con sus respectivas metricas\n",
        "    resultados = {\n",
        "      'Nombre_Modelo': nombre_modelo,\n",
        "      'Accuracy': accuracy,\n",
        "      'Precision': precision,\n",
        "      'Recall': recall,\n",
        "      'F1_Score': f1_score,\n",
        "      'AUC_ROC': auc_roc\n",
        "        }\n"
      ]
    },
    {
      "cell_type": "code",
      "execution_count": 19,
      "metadata": {
        "id": "99Z7_9Vqgao1",
        "colab": {
          "base_uri": "https://localhost:8080/"
        },
        "outputId": "d43bf836-24cc-4b36-d60f-db05bb75aeff"
      },
      "outputs": [
        {
          "output_type": "stream",
          "name": "stdout",
          "text": [
            "Modelo: Kneighbors\n",
            "Accuracy: 0.985129175241607\n",
            "Precisión: 0.9679471483494257\n",
            "Recall: 0.9996411253698729\n",
            "F1-score: 0.9679471483494257\n",
            "AUC-ROC: 0.9865809613692892\n",
            "\n",
            "Modelo: Bernoulli\n",
            "Accuracy: 0.7735636897922186\n",
            "Precisión: 0.6624663982350152\n",
            "Recall: 1.0\n",
            "F1-score: 0.6624663982350152\n",
            "AUC-ROC: 0.7962165442368387\n",
            "\n",
            "Modelo: DecisionTreeClassifier\n",
            "Accuracy: 0.9809858010071937\n",
            "Precisión: 0.9697980506886243\n",
            "Recall: 0.9879839351642405\n",
            "F1-score: 0.9697980506886243\n",
            "AUC-ROC: 0.9816858994776998\n",
            "\n",
            "Modelo: RandomForest\n",
            "Accuracy: 0.9744445224450988\n",
            "Precisión: 0.9601449299872618\n",
            "Recall: 0.9833137153154252\n",
            "F1-score: 0.9601449299872618\n",
            "AUC-ROC: 0.9753318030007148\n",
            "\n"
          ]
        }
      ],
      "source": [
        "crea_modelos()\n",
        "for i, model in enumerate(resultados['Nombre_Modelo']):\n",
        "    print(f\"Modelo: {model}\")\n",
        "    print(f\"Accuracy: {resultados['Accuracy'][i]}\")\n",
        "    print(f\"Precisión: {resultados['Precision'][i]}\")\n",
        "    print(f\"Recall: {resultados['Recall'][i]}\")\n",
        "    print(f\"F1-score: {resultados['F1_Score'][i]}\")\n",
        "    print(f\"AUC-ROC: {resultados['AUC_ROC'][i]}\\n\")"
      ]
    },
    {
      "cell_type": "markdown",
      "metadata": {
        "id": "92DWtlw0i45W"
      },
      "source": [
        "###5.*VISUALIZACION DE LOS DATOS*"
      ]
    },
    {
      "cell_type": "code",
      "execution_count": 20,
      "metadata": {
        "id": "KFsHYKlJi-XL"
      },
      "outputs": [],
      "source": [
        "def visualiza_resultados():\n",
        "    global df_banco, resultados\n",
        "    results_df = pd.DataFrame(resultados)\n",
        "    results_df.set_index('Nombre_Modelo', inplace=True)\n",
        "    results_df = pd.DataFrame(resultados)\n",
        "    results_df.set_index('Nombre_Modelo', inplace=True)\n",
        "    results_df = results_df.T\n",
        "    colors = ['#0077b6', '#CDDBF3','#9370DB', '#DDA0DD']\n",
        "    results_df.plot(kind='bar', figsize=(12, 6), colormap='viridis', rot=0, color=colors)\n",
        "    plt.title('Comparación de Métricas por Modelo')\n",
        "    plt.xlabel('Métricas')\n",
        "    plt.ylabel('Puntuación')\n",
        "    plt.legend(title='Modelos')\n",
        "    plt.tight_layout()\n",
        "    plt.show()"
      ]
    },
    {
      "cell_type": "code",
      "execution_count": 21,
      "metadata": {
        "id": "JUW2jzpBjBUr",
        "colab": {
          "base_uri": "https://localhost:8080/",
          "height": 676
        },
        "outputId": "a26cdcfe-0e0c-4914-91a0-40290953a986"
      },
      "outputs": [
        {
          "output_type": "stream",
          "name": "stderr",
          "text": [
            "<ipython-input-20-4db3add6aee4>:9: UserWarning: 'color' and 'colormap' cannot be used simultaneously. Using 'color'\n",
            "  results_df.plot(kind='bar', figsize=(12, 6), colormap='viridis', rot=0, color=colors)\n",
            "<ipython-input-20-4db3add6aee4>:9: UserWarning: 'color' and 'colormap' cannot be used simultaneously. Using 'color'\n",
            "  results_df.plot(kind='bar', figsize=(12, 6), colormap='viridis', rot=0, color=colors)\n"
          ]
        },
        {
          "output_type": "display_data",
          "data": {
            "text/plain": [
              "<Figure size 1200x600 with 1 Axes>"
            ],
            "image/png": "[encoded data removed]"
          },
          "metadata": {}
        }
      ],
      "source": [
        "visualiza_resultados()"
      ]
    },
    {
      "cell_type": "markdown",
      "metadata": {
        "id": "sNqSxOktjpby"
      },
      "source": [
        "Finalmente viendo las metricas nos quedamos con el modelo K-Vecinos Cercanos ya que arrojo resultados mas cercanos al 100%.Es decir que del total de fraudes va a detectar un 99% de los casos por el recall y con una precision de 96%."
      ]
    }
  ],
  "metadata": {
    "colab": {
      "provenance": [],
      "gpuType": "T4",
      "authorship_tag": "ABX9TyMUPbrUnqEheT1yHFdAMDst",
      "include_colab_link": true
    },
    "kernelspec": {
      "display_name": "Python 3",
      "name": "python3"
    },
    "language_info": {
      "name": "python"
    },
    "accelerator": "GPU"
  },
  "nbformat": 4,
  "nbformat_minor": 0
}